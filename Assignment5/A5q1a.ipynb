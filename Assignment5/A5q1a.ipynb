{
 "cells": [
  {
   "cell_type": "code",
   "execution_count": 3,
   "metadata": {},
   "outputs": [],
   "source": [
    "import csv\n",
    "import random\n",
    "import math\n",
    "import operator \n",
    "import pandas as pd\n",
    "import numpy as np\n",
    "from scipy import spatial"
   ]
  },
  {
   "cell_type": "code",
   "execution_count": 33,
   "metadata": {},
   "outputs": [],
   "source": [
    "def Calculate_Distance(instance1, instance2, length,distance_metric):\n",
    "    distance = 0\n",
    "    if(distance_metric='euclidean'):\n",
    "        for x in range(length):\n",
    "            distance += np.sqrt(np.sum(np.power(instance1-instance2, 2)))\n",
    "    elif(distance_metric='manhattan'):\n",
    "        for x in range(length):\n",
    "            distance += np.sum(np.absolute(instance1-instance2))\n",
    "    elif(distance_metric='cosine'):\n",
    "        result = spatial.distance.cosine(instance1, instance2)\n",
    "    return math.sqrt(distance)"
   ]
  },
  {
   "cell_type": "code",
   "execution_count": 1,
   "metadata": {},
   "outputs": [],
   "source": [
    "def Prediction(trainingSet, testInstance, k,distance_metric):\n",
    "    #The most similar list of neighbors is obtained\n",
    "    distances = []\n",
    "    length = len(testInstance)-1\n",
    "    for x in range(len(trainingSet)):\n",
    "        dist = Calculate_Distance(testInstance, trainingSet[x], length,distance_metric)\n",
    "        distances.append((trainingSet[x], dist))\n",
    "    distances.sort(key=operator.itemgetter(1))\n",
    "    neighbors = []\n",
    "    for x in range(k):\n",
    "        neighbors.append(distances[x][0])\n",
    "    #The response of each of the neighbors is obtained\n",
    "    classVotes = {}\n",
    "    for x in range(len(neighbors)):\n",
    "        response = neighbors[x][-1]\n",
    "        if response in classVotes:\n",
    "            classVotes[response] += 1\n",
    "        else:\n",
    "            classVotes[response] = 1\n",
    "    sortedVotes = sorted(classVotes, key=operator.itemgetter(1), reverse=True)\n",
    "    return sortedVotes[0]"
   ]
  },
  {
   "cell_type": "code",
   "execution_count": 36,
   "metadata": {},
   "outputs": [],
   "source": [
    "#the accuracy of the prediction is obtained\n",
    "def Accuracypredictor(testSet, predictions):\n",
    "    correct = 0\n",
    "    for x in range(len(testSet)):\n",
    "    if testSet[x][-1] == predictions[x]:\n",
    "        correct += 1\n",
    "    return (correct/float(len(testSet))) * 100.0"
   ]
  },
  {
   "cell_type": "code",
   "execution_count": 1,
   "metadata": {},
   "outputs": [],
   "source": [
    "def KNN_predict(types, train_X, train_Y, test_X, K, distance_metric):\n",
    "    predictions=[]\n",
    "    accuracy=[]\n",
    "    for k in range(1,15):\n",
    "        for x in range(len(testSet)):\n",
    "            result = Prediction(trainingSet, testSet[x], k,distance_metric)\n",
    "            predictions.append(result)\n",
    "        accuracy.append(Accuracypredictor(testSet, predictions))\n",
    "    print(accuracy)"
   ]
  },
  {
   "cell_type": "markdown",
   "metadata": {},
   "source": []
  },
  {
   "cell_type": "code",
   "execution_count": null,
   "metadata": {},
   "outputs": [],
   "source": []
  }
 ],
 "metadata": {
  "kernelspec": {
   "display_name": "Python 3",
   "language": "python",
   "name": "python3"
  },
  "language_info": {
   "codemirror_mode": {
    "name": "ipython",
    "version": 3
   },
   "file_extension": ".py",
   "mimetype": "text/x-python",
   "name": "python",
   "nbconvert_exporter": "python",
   "pygments_lexer": "ipython3",
   "version": "3.6.5"
  }
 },
 "nbformat": 4,
 "nbformat_minor": 2
}
