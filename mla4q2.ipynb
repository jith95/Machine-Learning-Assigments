{
 "cells": [
  {
   "cell_type": "markdown",
   "metadata": {},
   "source": [
    "# 2.a)"
   ]
  },
  {
   "cell_type": "code",
   "execution_count": 3,
   "metadata": {},
   "outputs": [],
   "source": [
    "def normalEquationRidgeRegression(X, y,alpha):\n",
    "    ide = np.identity(len(X[0])+1,dtype = float) \n",
    "    X = np.c_[np.ones(len(X)),X] \n",
    "    ide = alpha*ide\n",
    "    mul  = np.dot(X.T,X)\n",
    "    sum1 = mul + ide\n",
    "    print(sum1)\n",
    "    inv = np.linalg.inv(sum1)\n",
    "    z = np.dot(X.T,y)\n",
    "    coef = np.dot(inv,z)\n",
    "    return coef"
   ]
  },
  {
   "cell_type": "markdown",
   "metadata": {},
   "source": [
    "# 2.b)"
   ]
  },
  {
   "cell_type": "code",
   "execution_count": 7,
   "metadata": {},
   "outputs": [],
   "source": [
    "def coodrdinateDescentRegression(X, y):\n",
    "    param = np.zeros(X.shape[1])\n",
    "    cost_h = [0] * (101)\n",
    "    cost_h[0] = np.sum((X.dot(param) - y) ** 2)/(2 * len(y))\n",
    "\n",
    "    for itr in range(100):\n",
    "        for i in range(len(param)):\n",
    "            delt = np.dot(np.delete(X, i, axis=1), np.delete(param, i, axis=0))\n",
    "            param[i] = np.dot(X[:,i].T, (y.ravel() - delt))/np.sum(np.square(X[:,i]))\n",
    "            cost = np.sum((X.dot(param) - y) ** 2)/(2 * len(y))\n",
    "            cost_h[itr+1] = cost\n",
    "\n",
    "    return param, cost_h"
   ]
  },
  {
   "cell_type": "markdown",
   "metadata": {},
   "source": [
    "# 2.c)"
   ]
  },
  {
   "cell_type": "code",
   "execution_count": 8,
   "metadata": {},
   "outputs": [],
   "source": [
    "def coodrdinateDescentLasso(X, y,lemda):\n",
    "    k = X.shape[1]\n",
    "    theta_ = np.zeros(k)\n",
    "    costs = []\n",
    "    learn_c = 0.001\n",
    "    for i in range(500):\n",
    "        Yhat = X.dot(theta_)\n",
    "        delta = Yhat - y\n",
    "        theta_ = theta_ - learn_c*(X.T.dot(delta) + lemda*np.sign(theta_)) \n",
    "        meanSquareError = delta.dot(delta)/k\n",
    "        costs.append(meanSquareError) \n",
    "    return theta_,costs"
   ]
  },
  {
   "cell_type": "markdown",
   "metadata": {},
   "source": [
    "# 2.d)"
   ]
  },
  {
   "cell_type": "code",
   "execution_count": 9,
   "metadata": {},
   "outputs": [],
   "source": [
    "from sklearn import linear_model\n",
    "from sklearn.metrics import mean_squared_error\n",
    "from math import sqrt\n",
    "\n",
    "def predict(row, coefficients):\n",
    "    yhat = coefficients[0]\n",
    "    for i in range(len(row)-1):\n",
    "        yhat += coefficients[i + 1] * row[i]\n",
    "    return yhat\n",
    "\n",
    "def sgdRegression(X,y,alpha=0.1):\n",
    "    coef = [0.0 for i in range(X.shape[1])]\n",
    "    po=[]\n",
    "    for epoch in range(100):\n",
    "        for row in X:\n",
    "            yhat = predict(row, coef)\n",
    "            error = yhat - row[-1]\n",
    "            coef[0] = coef[0] - alpha*error\n",
    "            for i in range(len(row)-1):\n",
    "                coef[i + 1] = coef[i + 1] - alpha * error * row[i]\n",
    "        po.append(yhat)       \n",
    "    return coef,po"
   ]
  },
  {
   "cell_type": "markdown",
   "metadata": {},
   "source": [
    "# 2.e)"
   ]
  },
  {
   "cell_type": "code",
   "execution_count": 20,
   "metadata": {},
   "outputs": [],
   "source": [
    "def gradientDescentAutogradLasso(X,y,lemda,alpha=0.1):\n",
    "    k = X.shape[1]\n",
    "    theta_ = np.zeros(k)\n",
    "    learn_c = alpha\n",
    "    Yhat = np.dot(X,theta_)\n",
    "    delta = Yhat - y\n",
    "    theta_ = theta_ - learn_c*(np.dot(X.T,delta) + lemda*np.sign(theta_)) \n",
    "    return theta_"
   ]
  },
  {
   "cell_type": "code",
   "execution_count": 21,
   "metadata": {},
   "outputs": [],
   "source": [
    "import autograd.numpy as np \n",
    "from autograd import grad   \n",
    "from autograd import jacobian\n",
    "from autograd import elementwise_grad as egrad\n",
    "\n",
    "autograd=egrad(gradientDescentAutogradLasso)"
   ]
  },
  {
   "cell_type": "code",
   "execution_count": 23,
   "metadata": {},
   "outputs": [],
   "source": [
    "x = np.arange(-5.0, 5.0, 1)\n",
    "y = np.arange(-10.0, 10.0, 1)"
   ]
  },
  {
   "cell_type": "code",
   "execution_count": 27,
   "metadata": {},
   "outputs": [
    {
     "name": "stdout",
     "output_type": "stream",
     "text": [
      "[0.09 0.09 0.09 0.09 0.09 0.09 0.09 0.09 0.09 0.09]\n"
     ]
    }
   ],
   "source": [
    "theta=autograd(x,y,0.01)\n",
    "theta"
   ]
  },
  {
   "cell_type": "code",
   "execution_count": null,
   "metadata": {},
   "outputs": [],
   "source": []
  }
 ],
 "metadata": {
  "kernelspec": {
   "display_name": "Python 3",
   "language": "python",
   "name": "python3"
  },
  "language_info": {
   "codemirror_mode": {
    "name": "ipython",
    "version": 3
   },
   "file_extension": ".py",
   "mimetype": "text/x-python",
   "name": "python",
   "nbconvert_exporter": "python",
   "pygments_lexer": "ipython3",
   "version": "3.6.5"
  }
 },
 "nbformat": 4,
 "nbformat_minor": 2
}
