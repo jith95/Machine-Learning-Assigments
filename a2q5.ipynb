{
 "cells": [
  {
   "cell_type": "markdown",
   "metadata": {},
   "source": [
    "# Q5) This randomly chooses  amongst a list of n numbers using relative clock drift"
   ]
  },
  {
   "cell_type": "code",
   "execution_count": 5,
   "metadata": {},
   "outputs": [],
   "source": [
    "import struct\n",
    "import time\n",
    "import matplotlib.pyplot as plt\n",
    "def lastbit(f):\n",
    "    return struct.pack('!f', f)[-1] & 1\n",
    "\n",
    "def getrandbits(k):\n",
    "    \"Return k random bits using a relative drift of two clocks.\"\n",
    "    # assume time.sleep() and time.clock() use different clocks\n",
    "    # though it might work even if they use the same clock\n",
    "    #XXX it does not produce \"good\" random bits, see below for details\n",
    "    result = 0\n",
    "    for i in range(k):\n",
    "        time.sleep(0)\n",
    "        result <<= 1\n",
    "        #print(\"Result--->\",result)\n",
    "        result |= lastbit(time.clock())\n",
    "        #print(\"Result--->\",result)\n",
    "    return result\n",
    "\n",
    "def randint(a, b):\n",
    "    \"Return random integer in range [a, b], including both end points.\"\n",
    "    return (a + randbelow(b - a + 1))\n",
    "\n",
    "def randbelow(n):\n",
    "    \"Return a random int in the range [0,n).  Raises ValueError if n<=0.\"\n",
    "    # from Lib/random.py\n",
    "    if n <= 0:\n",
    "       raise ValueError\n",
    "    k = n.bit_length()  # don't use (n-1) here because n can be 1\n",
    "    #print(\"bit length\",k)\n",
    "    r = getrandbits(k)          # 0 <= r < 2**k\n",
    "    while r >= n: # avoid skew\n",
    "        r = getrandbits(k)\n",
    "    return r\n",
    "randnums=[]\n",
    "for i in range(1000):\n",
    "    rand=randint(0,100)\n",
    "    randnums.append(rand)\n",
    "#print(randnums)"
   ]
  },
  {
   "cell_type": "markdown",
   "metadata": {},
   "source": [
    "# 5.b) Their distribution is plotted. I do get a roughly uniform distribution."
   ]
  },
  {
   "cell_type": "code",
   "execution_count": 6,
   "metadata": {},
   "outputs": [
    {
     "data": {
      "image/png": "[encoded data removed]",
      "text/plain": [
       "<Figure size 432x288 with 1 Axes>"
      ]
     },
     "metadata": {},
     "output_type": "display_data"
    }
   ],
   "source": [
    "nums = list(range(len(randnums)))\n",
    "plt.plot(nums, randnums, 'ro')\n",
    "plt.show()"
   ]
  },
  {
   "cell_type": "code",
   "execution_count": null,
   "metadata": {},
   "outputs": [],
   "source": []
  },
  {
   "cell_type": "code",
   "execution_count": null,
   "metadata": {},
   "outputs": [],
   "source": []
  }
 ],
 "metadata": {
  "kernelspec": {
   "display_name": "Python 3",
   "language": "python",
   "name": "python3"
  },
  "language_info": {
   "codemirror_mode": {
    "name": "ipython",
    "version": 3
   },
   "file_extension": ".py",
   "mimetype": "text/x-python",
   "name": "python",
   "nbconvert_exporter": "python",
   "pygments_lexer": "ipython3",
   "version": "3.6.5"
  }
 },
 "nbformat": 4,
 "nbformat_minor": 2
}
